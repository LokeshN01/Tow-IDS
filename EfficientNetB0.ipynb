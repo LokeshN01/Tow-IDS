{
 "cells": [
  {
   "cell_type": "code",
   "execution_count": 2,
   "id": "5089ee88-b631-4d4d-846a-6ad685dccd31",
   "metadata": {},
   "outputs": [
    {
     "name": "stdout",
     "output_type": "stream",
     "text": [
      "Epoch 1/20\n",
      "67/67 [==============================] - 25s 259ms/step - loss: 0.2823 - accuracy: 0.8991 - val_loss: 0.5871 - val_accuracy: 0.9500 - lr: 0.0010\n",
      "Epoch 2/20\n",
      "67/67 [==============================] - 16s 237ms/step - loss: 0.1474 - accuracy: 0.9462 - val_loss: 0.2504 - val_accuracy: 0.9500 - lr: 0.0010\n",
      "Epoch 3/20\n",
      "67/67 [==============================] - 16s 232ms/step - loss: 0.1017 - accuracy: 0.9689 - val_loss: 0.3867 - val_accuracy: 0.9500 - lr: 0.0010\n",
      "Epoch 4/20\n",
      "67/67 [==============================] - 16s 235ms/step - loss: 0.0826 - accuracy: 0.9708 - val_loss: 0.4698 - val_accuracy: 0.9500 - lr: 0.0010\n",
      "Epoch 5/20\n",
      "67/67 [==============================] - 16s 236ms/step - loss: 0.0747 - accuracy: 0.9755 - val_loss: 1.1069 - val_accuracy: 0.0500 - lr: 0.0010\n",
      "Epoch 6/20\n",
      "67/67 [==============================] - 16s 238ms/step - loss: 0.0587 - accuracy: 0.9745 - val_loss: 1.6803 - val_accuracy: 0.0500 - lr: 9.0000e-04\n",
      "Epoch 7/20\n",
      "67/67 [==============================] - 16s 232ms/step - loss: 0.0861 - accuracy: 0.9689 - val_loss: 0.8666 - val_accuracy: 0.0500 - lr: 8.1000e-04\n"
     ]
    }
   ],
   "source": [
    "import numpy as np\n",
    "import pandas as pd\n",
    "import tensorflow as tf\n",
    "from tensorflow.keras.applications.efficientnet import EfficientNetB0\n",
    "from tensorflow.keras.layers import Dense, GlobalAveragePooling2D, Dropout\n",
    "from tensorflow.keras.models import Model\n",
    "from tensorflow.keras.utils import to_categorical\n",
    "from sklearn.model_selection import train_test_split\n",
    "from sklearn.preprocessing import LabelEncoder\n",
    "from tensorflow.keras.preprocessing.image import ImageDataGenerator\n",
    "from tensorflow.keras.callbacks import EarlyStopping, LearningRateScheduler\n",
    "\n",
    "# Load data and preprocess as before\n",
    "wavelet_data = np.load('wavelet_transformed_data/layered_60x60_normalized.npy')\n",
    "labels_df = pd.read_csv('labels/60x60.csv')\n",
    "labels = labels_df['Label'].values\n",
    "\n",
    "# Shuffle the data and labels together\n",
    "indices = np.arange(wavelet_data.shape[0])\n",
    "np.random.shuffle(indices)\n",
    "wavelet_data_shuffled = wavelet_data[indices]\n",
    "labels_shuffled = labels[indices]\n",
    "\n",
    "# Convert labels to binary format\n",
    "label_encoder = LabelEncoder()\n",
    "integer_encoded = label_encoder.fit_transform(labels_shuffled)\n",
    "binary_labels = to_categorical(integer_encoded)\n",
    "\n",
    "# Resize data to match EfficientNetB0 input shape, if necessary\n",
    "data_resized = tf.image.resize(wavelet_data_shuffled, [224, 224]).numpy()\n",
    "\n",
    "# Split the data\n",
    "X_train, X_val, y_train, y_val = train_test_split(data_resized, binary_labels, test_size=0.1, random_state=42)\n",
    "\n",
    "# Data Augmentation\n",
    "datagen = ImageDataGenerator(\n",
    "    featurewise_center=True,\n",
    "    featurewise_std_normalization=True,\n",
    "    rotation_range=20,\n",
    "    width_shift_range=0.2,\n",
    "    height_shift_range=0.2,\n",
    "    horizontal_flip=True)\n",
    "datagen.fit(X_train)\n",
    "\n",
    "# Create the EfficientNet B0 base model with pretrained weights\n",
    "base_model = EfficientNetB0(weights='imagenet', include_top=False, input_shape=(224, 224, 3))\n",
    "\n",
    "# Freeze the layers of the base model\n",
    "base_model.trainable = False\n",
    "\n",
    "# Create the top model for classification\n",
    "x = base_model.output\n",
    "x = GlobalAveragePooling2D()(x)  # Add a global average pooling layer\n",
    "x = Dense(128, activation='relu')(x)\n",
    "x = Dropout(0.5)(x)\n",
    "predictions = Dense(2, activation='softmax')(x)  # Assuming binary classification\n",
    "\n",
    "model = Model(inputs=base_model.input, outputs=predictions)\n",
    "\n",
    "# Compile the model\n",
    "model.compile(optimizer='adam', loss='categorical_crossentropy', metrics=['accuracy'])\n",
    "\n",
    "# Early stopping with increased patience\n",
    "early_stopping = EarlyStopping(monitor='val_loss', patience=5)\n",
    "\n",
    "# Revised learning rate scheduler\n",
    "def scheduler(epoch, lr):\n",
    "    if epoch < 5:\n",
    "        return lr\n",
    "    else:\n",
    "        return lr * 0.9  # Reduce lr by 10% after 5 epochs\n",
    "\n",
    "lr_scheduler = LearningRateScheduler(scheduler)\n",
    "\n",
    "# Adjust batch size if necessary\n",
    "batch_size = 16  # Adjust based on your system's capability\n",
    "\n",
    "# Train the model\n",
    "history = model.fit(\n",
    "    datagen.flow(X_train, y_train, shuffle=True, batch_size=batch_size),\n",
    "    steps_per_epoch=len(X_train) // batch_size,\n",
    "    epochs=20,\n",
    "    validation_data=(X_val, y_val),\n",
    "    callbacks=[early_stopping, lr_scheduler]\n",
    ")\n"
   ]
  },
  {
   "cell_type": "code",
   "execution_count": 3,
   "id": "6f45f6d0-9f53-481d-905c-7ecbbc71bea5",
   "metadata": {},
   "outputs": [
    {
     "name": "stderr",
     "output_type": "stream",
     "text": [
      "/home/lnagana/.local/lib/python3.9/site-packages/keras/src/engine/training.py:3103: UserWarning: You are saving your model as an HDF5 file via `model.save()`. This file format is considered legacy. We recommend using instead the native Keras format, e.g. `model.save('my_model.keras')`.\n",
      "  saving_api.save_model(\n"
     ]
    },
    {
     "name": "stdout",
     "output_type": "stream",
     "text": [
      "Model saved to models/60x60_trained_EfficientNet_model.h5\n"
     ]
    }
   ],
   "source": [
    "import os\n",
    "\n",
    "# Define the directory to save the model\n",
    "model_dir = 'models'\n",
    "\n",
    "# Create the directory if it doesn't exist\n",
    "if not os.path.exists(model_dir):\n",
    "    os.makedirs(model_dir)\n",
    "\n",
    "# Save the model\n",
    "model_save_path = 'models/60x60_trained_EfficientNet_model.h5'\n",
    "\n",
    "# Save the model in HDF5 format\n",
    "model.save(model_save_path, save_format='h5')\n",
    "\n",
    "print(f\"Model saved to {model_save_path}\")"
   ]
  },
  {
   "cell_type": "code",
   "execution_count": 5,
   "id": "8776bf1d-8b96-4fab-9041-b9b46d9c2be6",
   "metadata": {},
   "outputs": [
    {
     "name": "stdout",
     "output_type": "stream",
     "text": [
      "1/1 [==============================] - 2s 2s/step\n",
      "['Normal' 'Normal' 'Normal' 'Normal' 'Normal' 'Normal' 'Normal' 'Normal'\n",
      " 'Normal' 'Normal']\n"
     ]
    }
   ],
   "source": [
    "datagen = ImageDataGenerator(featurewise_center=True, featurewise_std_normalization=True)\n",
    "datagen.fit(X_train)  # Assuming X_train was used to fit the datagen during training\n",
    "test_data_normalized = datagen.standardize(test_data_resized_np)\n",
    "\n",
    "# Predict using the model\n",
    "predictions = model.predict(test_data_normalized[:10])\n",
    "# Assuming `predicted_classes` contains the predicted class indices from your model\n",
    "predicted_classes = np.argmax(predictions, axis=1)\n",
    "predicted_labels = label_encoder.inverse_transform(predicted_classes)\n",
    "\n",
    "print(predicted_labels)\n"
   ]
  },
  {
   "cell_type": "code",
   "execution_count": 6,
   "id": "cce6bb8c-6227-42ce-b351-b2c14da2ad2c",
   "metadata": {},
   "outputs": [
    {
     "name": "stdout",
     "output_type": "stream",
     "text": [
      "1/1 [==============================] - 0s 51ms/step\n",
      "Predicted Class Index: 0\n",
      "Predicted Label: Abnormal\n"
     ]
    }
   ],
   "source": [
    "individual_element = test_data_resized_np[178]\n",
    "individual_element_batch = np.expand_dims(individual_element, axis=0)\n",
    "individual_prediction = model.predict(individual_element_batch)\n",
    "predicted_class_index = np.argmax(individual_prediction, axis=1) #class index\n",
    "predicted_label = label_encoder.inverse_transform(predicted_class_index) #label\n",
    "\n",
    "# Output\n",
    "print(\"Predicted Class Index:\", predicted_class_index[0])\n",
    "print(\"Predicted Label:\", predicted_label[0])\n"
   ]
  },
  {
   "cell_type": "code",
   "execution_count": null,
   "id": "2c1d3d31-9783-4d2b-9eee-2a1abe3ee64b",
   "metadata": {},
   "outputs": [],
   "source": []
  }
 ],
 "metadata": {
  "kernelspec": {
   "display_name": "PySpark",
   "language": "python",
   "name": "pyspark"
  },
  "language_info": {
   "codemirror_mode": {
    "name": "ipython",
    "version": 3
   },
   "file_extension": ".py",
   "mimetype": "text/x-python",
   "name": "python",
   "nbconvert_exporter": "python",
   "pygments_lexer": "ipython3",
   "version": "3.9.12"
  }
 },
 "nbformat": 4,
 "nbformat_minor": 5
}
