{
 "cells": [
  {
   "cell_type": "code",
   "execution_count": 1,
   "id": "61376511-4b6e-4d44-bb4f-dda5996acbd2",
   "metadata": {},
   "outputs": [
    {
     "name": "stderr",
     "output_type": "stream",
     "text": [
      "/software/spackages/linux-rocky8-x86_64/gcc-9.5.0/anaconda3-2022.05-zyrazrj6uvrtukupqzhaslr63w7hj6in/lib/python3.9/site-packages/scipy/__init__.py:146: UserWarning: A NumPy version >=1.16.5 and <1.23.0 is required for this version of SciPy (detected version 1.26.2\n",
      "  warnings.warn(f\"A NumPy version >={np_minversion} and <{np_maxversion}\"\n"
     ]
    }
   ],
   "source": [
    "import os\n",
    "import tensorflow as tf\n",
    "\n",
    "os.environ['CUDA_VISIBLE_DEVICES'] = '-1' "
   ]
  },
  {
   "cell_type": "code",
   "execution_count": 10,
   "id": "17bb860a-6009-4f4b-af2d-6963f61f4d1a",
   "metadata": {},
   "outputs": [
    {
     "name": "stdout",
     "output_type": "stream",
     "text": [
      "Downloading data from https://storage.googleapis.com/tensorflow/keras-applications/resnet/resnet50_weights_tf_dim_ordering_tf_kernels_notop.h5\n",
      "94765736/94765736 [==============================] - 7s 0us/step\n",
      "Epoch 1/10\n",
      "17/17 [==============================] - 22s 1s/step - loss: 4.0559 - accuracy: 0.8074 - val_loss: 10.3632 - val_accuracy: 0.1094\n",
      "Epoch 2/10\n",
      "17/17 [==============================] - 17s 1s/step - loss: 0.5487 - accuracy: 0.9056 - val_loss: 12.0735 - val_accuracy: 0.1094\n",
      "Epoch 3/10\n",
      "17/17 [==============================] - 17s 997ms/step - loss: 0.1621 - accuracy: 0.9389 - val_loss: 10.3714 - val_accuracy: 0.1094\n",
      "Epoch 4/10\n",
      "17/17 [==============================] - 18s 1s/step - loss: 0.1172 - accuracy: 0.9426 - val_loss: 8.9289 - val_accuracy: 0.1094\n",
      "Epoch 5/10\n",
      "17/17 [==============================] - 17s 1s/step - loss: 0.1007 - accuracy: 0.9537 - val_loss: 5.4414 - val_accuracy: 0.1094\n",
      "Epoch 6/10\n",
      "17/17 [==============================] - 17s 1s/step - loss: 0.0918 - accuracy: 0.9651 - val_loss: 5.2136 - val_accuracy: 0.1094\n",
      "Epoch 7/10\n",
      "17/17 [==============================] - 17s 1s/step - loss: 0.0857 - accuracy: 0.9630 - val_loss: 5.3448 - val_accuracy: 0.1094\n",
      "Epoch 8/10\n",
      "17/17 [==============================] - 18s 1s/step - loss: 0.0614 - accuracy: 0.9704 - val_loss: 5.1913 - val_accuracy: 0.1094\n",
      "Epoch 9/10\n",
      "17/17 [==============================] - 18s 1s/step - loss: 0.0635 - accuracy: 0.9704 - val_loss: 8.1364 - val_accuracy: 0.1094\n",
      "Epoch 10/10\n",
      "17/17 [==============================] - 17s 999ms/step - loss: 0.0627 - accuracy: 0.9704 - val_loss: 7.8484 - val_accuracy: 0.1094\n"
     ]
    },
    {
     "data": {
      "text/plain": [
       "<keras.src.callbacks.History at 0x14a287450eb0>"
      ]
     },
     "execution_count": 10,
     "metadata": {},
     "output_type": "execute_result"
    }
   ],
   "source": [
    "import numpy as np\n",
    "import pandas as pd\n",
    "import tensorflow as tf\n",
    "from tensorflow.keras.applications import ResNet50\n",
    "from tensorflow.keras.layers import Flatten, Dense, Dropout\n",
    "from tensorflow.keras.models import Model\n",
    "from tensorflow.keras.utils import to_categorical\n",
    "from sklearn.model_selection import train_test_split\n",
    "from sklearn.preprocessing import LabelEncoder\n",
    "from tensorflow.keras.preprocessing.image import ImageDataGenerator\n",
    "\n",
    "# Data Augmentation\n",
    "datagen = ImageDataGenerator(\n",
    "    featurewise_center=True,\n",
    "    featurewise_std_normalization=True,\n",
    "    rotation_range=20,\n",
    "    width_shift_range=0.2,\n",
    "    height_shift_range=0.2,\n",
    "    horizontal_flip=True\n",
    ")\n",
    "\n",
    "# Load data\n",
    "data = np.load('wavelet_transformed_data/layered_452x452_normalized.npy')\n",
    "data_resized = tf.image.resize(data, [224, 224])\n",
    "data_resized_np = data_resized.numpy()\n",
    "\n",
    "# Load labels\n",
    "labels_df = pd.read_csv('labels/452x452.csv')\n",
    "labels = labels_df['Label'].values\n",
    "\n",
    "# Convert labels to binary format\n",
    "label_encoder = LabelEncoder()\n",
    "integer_encoded = label_encoder.fit_transform(labels)\n",
    "binary_labels = to_categorical(integer_encoded)\n",
    "\n",
    "# Split the data\n",
    "X_train, X_val, y_train, y_val = train_test_split(data_resized_np, binary_labels, test_size=0.1, random_state=42)\n",
    "\n",
    "# Fit the ImageDataGenerator\n",
    "datagen.fit(X_train)\n",
    "\n",
    "# Load the pretrained ResNet50 model\n",
    "base_model = ResNet50(weights='imagenet', include_top=False, input_shape=(224, 224, 3))\n",
    "\n",
    "# Freeze the layers of the base model\n",
    "for layer in base_model.layers:\n",
    "    layer.trainable = False\n",
    "\n",
    "# Add custom layers on top of ResNet50\n",
    "x = base_model.output\n",
    "x = Flatten()(x)\n",
    "x = Dense(128, activation='relu')(x)\n",
    "x = Dropout(0.5)(x)\n",
    "predictions = Dense(2, activation='softmax')(x)\n",
    "\n",
    "model = Model(inputs=base_model.input, outputs=predictions)\n",
    "\n",
    "# Compile the model\n",
    "model.compile(optimizer='adam', loss='categorical_crossentropy', metrics=['accuracy'])\n",
    "\n",
    "# Train the model using augmented data\n",
    "model.fit(datagen.flow(X_train, y_train, shuffle=True), steps_per_epoch=len(X_train) // 32, epochs=10, validation_data=(X_val, y_val))\n"
   ]
  },
  {
   "cell_type": "code",
   "execution_count": 11,
   "id": "978df3b9-5525-4c59-9a01-303204fabd99",
   "metadata": {},
   "outputs": [
    {
     "name": "stderr",
     "output_type": "stream",
     "text": [
      "/home/lnagana/.local/lib/python3.9/site-packages/keras/src/engine/training.py:3103: UserWarning: You are saving your model as an HDF5 file via `model.save()`. This file format is considered legacy. We recommend using instead the native Keras format, e.g. `model.save('my_model.keras')`.\n",
      "  saving_api.save_model(\n"
     ]
    },
    {
     "name": "stdout",
     "output_type": "stream",
     "text": [
      "Model saved to models/452x452_trained_resnet_model.h5\n"
     ]
    }
   ],
   "source": [
    "import os\n",
    "\n",
    "# Define the directory to save the model\n",
    "model_dir = 'models'\n",
    "\n",
    "# Create the directory if it doesn't exist\n",
    "if not os.path.exists(model_dir):\n",
    "    os.makedirs(model_dir)\n",
    "\n",
    "# Save the model\n",
    "model_save_path = 'models/452x452_trained_resnet_model.h5'\n",
    "\n",
    "# Save the model in HDF5 format\n",
    "model.save(model_save_path, save_format='h5')\n",
    "\n",
    "print(f\"Model saved to {model_save_path}\")"
   ]
  },
  {
   "cell_type": "code",
   "execution_count": 15,
   "id": "a3713e99-7c9c-4716-8127-fcf465d93b9f",
   "metadata": {},
   "outputs": [
    {
     "name": "stdout",
     "output_type": "stream",
     "text": [
      "1/1 [==============================] - 0s 312ms/step\n",
      "['Normal' 'Normal' 'Normal' 'Normal' 'Normal' 'Normal' 'Normal' 'Normal'\n",
      " 'Normal' 'Normal']\n"
     ]
    }
   ],
   "source": [
    "datagen = ImageDataGenerator(featurewise_center=True, featurewise_std_normalization=True)\n",
    "datagen.fit(X_train)  # Assuming X_train was used to fit the datagen during training\n",
    "test_data_normalized = datagen.standardize(test_data_resized_np)\n",
    "\n",
    "# Predict using the model\n",
    "predictions = model.predict(test_data_normalized[:10])\n",
    "# Assuming `predicted_classes` contains the predicted class indices from your model\n",
    "predicted_classes = np.argmax(predictions, axis=1)\n",
    "predicted_labels = label_encoder.inverse_transform(predicted_classes)\n",
    "\n",
    "print(predicted_labels)\n"
   ]
  },
  {
   "cell_type": "code",
   "execution_count": 19,
   "id": "555251fe-712c-45ba-b82c-30316d0e7d9b",
   "metadata": {},
   "outputs": [
    {
     "name": "stdout",
     "output_type": "stream",
     "text": [
      "1/1 [==============================] - 0s 77ms/step\n",
      "Predicted Class Index: 1\n",
      "Predicted Label: Normal\n"
     ]
    }
   ],
   "source": [
    "individual_element = test_data_resized_np[178]\n",
    "individual_element_batch = np.expand_dims(individual_element, axis=0)\n",
    "individual_prediction = model.predict(individual_element_batch)\n",
    "predicted_class_index = np.argmax(individual_prediction, axis=1) #class index\n",
    "predicted_label = label_encoder.inverse_transform(predicted_class_index) #label\n",
    "\n",
    "# Output\n",
    "print(\"Predicted Class Index:\", predicted_class_index[0])\n",
    "print(\"Predicted Label:\", predicted_label[0])\n"
   ]
  },
  {
   "cell_type": "code",
   "execution_count": null,
   "id": "34db638e-fc75-4605-b47c-8c4ff9b87dba",
   "metadata": {},
   "outputs": [],
   "source": []
  }
 ],
 "metadata": {
  "kernelspec": {
   "display_name": "PySpark",
   "language": "python",
   "name": "pyspark"
  },
  "language_info": {
   "codemirror_mode": {
    "name": "ipython",
    "version": 3
   },
   "file_extension": ".py",
   "mimetype": "text/x-python",
   "name": "python",
   "nbconvert_exporter": "python",
   "pygments_lexer": "ipython3",
   "version": "3.9.12"
  }
 },
 "nbformat": 4,
 "nbformat_minor": 5
}
